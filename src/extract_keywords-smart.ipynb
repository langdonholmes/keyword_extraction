{
 "cells": [
  {
   "cell_type": "markdown",
   "id": "2e977147-26bb-46b0-83e3-0a40d5872e5b",
   "metadata": {},
   "source": [
    "# Imports"
   ]
  },
  {
   "cell_type": "code",
   "execution_count": 1,
   "id": "b6b0bb83-1d87-4b37-a64e-393d4a55bf45",
   "metadata": {
    "tags": []
   },
   "outputs": [
    {
     "data": {
      "text/plain": [
       "True"
      ]
     },
     "execution_count": 1,
     "metadata": {},
     "output_type": "execute_result"
    }
   ],
   "source": [
    "import spacy\n",
    "import pandas as pd\n",
    "from tqdm.auto import tqdm\n",
    "\n",
    "import torch\n",
    "torch.cuda.is_available()"
   ]
  },
  {
   "cell_type": "markdown",
   "id": "28a4b4dc-2a21-4316-beb5-d9b7b9d5aa9a",
   "metadata": {},
   "source": [
    "# Create Docs"
   ]
  },
  {
   "cell_type": "code",
   "execution_count": 2,
   "id": "df104855-0e2d-4890-bd1e-0c3a03c2b2b1",
   "metadata": {
    "tags": []
   },
   "outputs": [],
   "source": [
    "texts = pd.read_csv('../data/smart_source_texts.csv')['''Original Text'''].to_list()\n",
    "termstrings = pd.read_csv('../data/smart_source_texts.csv')['E_KeyConcepts'].to_list()"
   ]
  },
  {
   "cell_type": "code",
   "execution_count": 3,
   "id": "fbcae472-5a03-417d-812d-27e778fbfb49",
   "metadata": {
    "tags": []
   },
   "outputs": [],
   "source": [
    "gold_terms = [termstring.split(',') for termstring in termstrings]"
   ]
  },
  {
   "cell_type": "markdown",
   "id": "04813d2d-80ac-48fa-9be8-8103a04b5903",
   "metadata": {},
   "source": [
    "# Extract Keywords"
   ]
  },
  {
   "cell_type": "code",
   "execution_count": 4,
   "id": "939600f7-85f5-40fd-a1db-b39e8c5e4f72",
   "metadata": {
    "tags": []
   },
   "outputs": [],
   "source": [
    "nlp = spacy.load('../training/model-last/')"
   ]
  },
  {
   "cell_type": "code",
   "execution_count": 5,
   "id": "38e082e7-ff98-472e-93c7-f7b8097c81a6",
   "metadata": {
    "tags": []
   },
   "outputs": [
    {
     "data": {
      "application/vnd.jupyter.widget-view+json": {
       "model_id": "a7f9f97f2c4b496382d8ec2acad736de",
       "version_major": 2,
       "version_minor": 0
      },
      "text/plain": [
       "  0%|          | 0/11 [00:00<?, ?it/s]"
      ]
     },
     "metadata": {},
     "output_type": "display_data"
    },
    {
     "name": "stderr",
     "output_type": "stream",
     "text": [
      "Token indices sequence length is longer than the specified maximum sequence length for this model (4256 > 4096). Running this sequence through the model will result in indexing errors\n"
     ]
    }
   ],
   "source": [
    "doc_gen = tqdm(nlp.pipe(texts), total=len(texts))\n",
    "pred_terms = [doc.ents for doc in doc_gen]"
   ]
  },
  {
   "cell_type": "code",
   "execution_count": 6,
   "id": "b7f4e95b-2c80-4dc2-b88a-1df9e3f3e71b",
   "metadata": {
    "tags": []
   },
   "outputs": [
    {
     "data": {
      "text/plain": [
       "[(Osmosis,), (), (), (), (), (), (), (), (), (), ()]"
      ]
     },
     "execution_count": 6,
     "metadata": {},
     "output_type": "execute_result"
    }
   ],
   "source": [
    "pred_terms"
   ]
  },
  {
   "cell_type": "code",
   "execution_count": 17,
   "id": "1be18685-8f3e-4643-ae33-b65b59522b2a",
   "metadata": {
    "tags": []
   },
   "outputs": [],
   "source": [
    "terms_for_eval = []\n",
    "\n",
    "for gold, pred, doc in zip(gold_terms, pred_terms, texts):\n",
    "    terms_for_eval.append(([t for t in gold], [t.text for t in pred]))"
   ]
  },
  {
   "cell_type": "code",
   "execution_count": 18,
   "id": "124f78e8-4454-4e02-bc52-552e1bb15480",
   "metadata": {
    "tags": []
   },
   "outputs": [
    {
     "data": {
      "text/plain": [
       "[(['passive transport',\n",
       "   'transport',\n",
       "   'diffusion',\n",
       "   'cell',\n",
       "   'plasma membrane',\n",
       "   'concentration',\n",
       "   'substance',\n",
       "   'osmosis'],\n",
       "  []),\n",
       " (['autotroph',\n",
       "   'calvin cycle',\n",
       "   'light-dependent reaction',\n",
       "   'chloroplast',\n",
       "   'chemical energy',\n",
       "   'photosynthesis',\n",
       "   'chlorophyll',\n",
       "   'solar energy',\n",
       "   'mesophyll'],\n",
       "  []),\n",
       " (['chloroplast',\n",
       "   'calvin cycle',\n",
       "   'light-dependent reaction',\n",
       "   'photosynthesis',\n",
       "   'carbon dioxide',\n",
       "   'oxygen',\n",
       "   'thylakoid',\n",
       "   'autotroph',\n",
       "   'heterotroph',\n",
       "   'glucose'],\n",
       "  []),\n",
       " (['dominant allele',\n",
       "   'heterozygote',\n",
       "   'allele',\n",
       "   'law',\n",
       "   'mendel',\n",
       "   'phenotype',\n",
       "   'genotype',\n",
       "   'homozygous recessive',\n",
       "   'heterozygote genotype',\n",
       "   'other allele'],\n",
       "  []),\n",
       " (['rna polymerase',\n",
       "   'gene',\n",
       "   'elongation',\n",
       "   'mrna transcript',\n",
       "   'initiation',\n",
       "   'dna',\n",
       "   'termination',\n",
       "   'transcription',\n",
       "   'promoter sequence'],\n",
       "  []),\n",
       " (['termination',\n",
       "   'translation',\n",
       "   'mrna',\n",
       "   'amino acid',\n",
       "   'initiation',\n",
       "   'elongation',\n",
       "   'protein',\n",
       "   'ribosome',\n",
       "   'transfer rna'],\n",
       "  []),\n",
       " (['allele frequency',\n",
       "   'population',\n",
       "   'allele',\n",
       "   'effect event',\n",
       "   'frequency',\n",
       "   'new allele',\n",
       "   'genetic drift',\n",
       "   'mutation',\n",
       "   'gene flow',\n",
       "   'individual'],\n",
       "  []),\n",
       " (['poverty', 'value', 'beegle', 'teacher', 'job', 'middle class'], []),\n",
       " (['people', 'government', 'privacy', 'technology', 'jarvis', 'social media'],\n",
       "  []),\n",
       " (['ghonim',\n",
       "   'khaled said',\n",
       "   'young people',\n",
       "   'facebook',\n",
       "   'revolution',\n",
       "   'internet'],\n",
       "  []),\n",
       " (['internet',\n",
       "   'people',\n",
       "   'privacy',\n",
       "   'panopticon',\n",
       "   'jeremy bentham',\n",
       "   'social media'],\n",
       "  [])]"
      ]
     },
     "execution_count": 18,
     "metadata": {},
     "output_type": "execute_result"
    }
   ],
   "source": [
    "terms_for_eval"
   ]
  },
  {
   "cell_type": "code",
   "execution_count": 62,
   "id": "2ca4c0be-a25f-4c60-894b-0f1d33fd381a",
   "metadata": {},
   "outputs": [],
   "source": [
    "f = open('results/macroeconomics-2e-results.txt','w', encoding='utf-8')\n",
    "\n",
    "for name, gold, pred in terms_for_eval:\n",
    "    f.write(name + '\\n\\n')\n",
    "    i = 0\n",
    "    j = 0\n",
    "    while i < len(gold) and j < len(pred):\n",
    "        if gold[i] in pred:\n",
    "            if gold[i] == pred[j]:\n",
    "                s = f'Gold: {gold[i]: <35} Pred: {pred[j]}'\n",
    "                i += 1\n",
    "                j +=1\n",
    "            else:\n",
    "                s = ' '*42 + f'Pred: {pred[j]}'\n",
    "                j += 1\n",
    "        elif i < len(gold):\n",
    "            s = f'Gold: {gold[i]: <35}'\n",
    "            i += 1\n",
    "        else:\n",
    "            s = ' '*42 + f'Pred: {pred[j]}'\n",
    "            j += 1\n",
    "        f.write(s + '\\n')\n",
    "    f.write('\\n')\n",
    "f.close()"
   ]
  },
  {
   "cell_type": "markdown",
   "id": "c11bb392-9b04-4165-9a72-fafcaef84498",
   "metadata": {},
   "source": [
    "# Send terms to csv"
   ]
  },
  {
   "cell_type": "code",
   "execution_count": null,
   "id": "8747c420-3af1-468d-a481-cf19a9dfb3fd",
   "metadata": {},
   "outputs": [],
   "source": [
    "terms_for_eval"
   ]
  },
  {
   "cell_type": "code",
   "execution_count": 12,
   "id": "9233dfcb-d5ae-4af0-9280-04d01ec7512f",
   "metadata": {},
   "outputs": [],
   "source": [
    "import pandas as pd\n",
    "pd.DataFrame(terms_for_eval, columns=['Section', 'Gold', 'Pred']).to_csv('results/macroeconomics-2e-results.csv', index=False)"
   ]
  }
 ],
 "metadata": {
  "kernelspec": {
   "display_name": "Python [conda env:keyword-extraction]",
   "language": "python",
   "name": "conda-env-keyword-extraction-py"
  },
  "language_info": {
   "codemirror_mode": {
    "name": "ipython",
    "version": 3
   },
   "file_extension": ".py",
   "mimetype": "text/x-python",
   "name": "python",
   "nbconvert_exporter": "python",
   "pygments_lexer": "ipython3",
   "version": "3.11.0"
  }
 },
 "nbformat": 4,
 "nbformat_minor": 5
}
