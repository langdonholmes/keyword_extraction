{
 "cells": [
  {
   "cell_type": "markdown",
   "id": "2e977147-26bb-46b0-83e3-0a40d5872e5b",
   "metadata": {},
   "source": [
    "# Imports"
   ]
  },
  {
   "cell_type": "code",
   "execution_count": 1,
   "id": "c8c690a0-6da7-490b-9bb0-1f8f0987c215",
   "metadata": {},
   "outputs": [
    {
     "name": "stdout",
     "output_type": "stream",
     "text": [
      "/home/jovyan/shared/2022_12_09_keyword_extraction\n"
     ]
    }
   ],
   "source": [
    "import os\n",
    "os.chdir('..') # do not rerun this cell\n",
    "print(os.getcwd())\n",
    "from scripts import convert\n",
    "\n",
    "import spacy\n",
    "from tqdm.auto import tqdm"
   ]
  },
  {
   "cell_type": "markdown",
   "id": "28a4b4dc-2a21-4316-beb5-d9b7b9d5aa9a",
   "metadata": {},
   "source": [
    "# Create Docs"
   ]
  },
  {
   "cell_type": "code",
   "execution_count": 2,
   "id": "194ff7a5-fec6-4ef1-9a73-21f7dc530ba0",
   "metadata": {},
   "outputs": [
    {
     "data": {
      "application/vnd.jupyter.widget-view+json": {
       "model_id": "6a8f3e67213a4992a1e7f1da4723545c",
       "version_major": 2,
       "version_minor": 0
      },
      "text/plain": [
       "  0%|          | 0/94 [00:00<?, ?it/s]"
      ]
     },
     "metadata": {},
     "output_type": "display_data"
    }
   ],
   "source": [
    "convert.main('assets/macroeconomics_2e.jsonl', 100)"
   ]
  },
  {
   "cell_type": "markdown",
   "id": "6c687f52-23a4-4000-bcbf-684503ac6369",
   "metadata": {},
   "source": [
    "# Get Docs"
   ]
  },
  {
   "cell_type": "code",
   "execution_count": 3,
   "id": "08fed3f5-c20c-4392-9f2d-18cf79cecbb1",
   "metadata": {},
   "outputs": [],
   "source": [
    "from spacyfuncs import spacyio"
   ]
  },
  {
   "cell_type": "code",
   "execution_count": 4,
   "id": "26a29d9c-b90c-4c31-a049-e7facf0fee7b",
   "metadata": {},
   "outputs": [
    {
     "name": "stdout",
     "output_type": "stream",
     "text": [
      "Retrieving from existing Docbin file\n"
     ]
    },
    {
     "data": {
      "application/vnd.jupyter.widget-view+json": {
       "model_id": "49408e46fbb44022b0bd601d2687de51",
       "version_major": 2,
       "version_minor": 0
      },
      "text/plain": [
       "  0%|          | 0/94 [00:00<?, ?it/s]"
      ]
     },
     "metadata": {},
     "output_type": "display_data"
    }
   ],
   "source": [
    "docs = spacyio.get_docs(None, 'corpus/sample.spacy')"
   ]
  },
  {
   "cell_type": "code",
   "execution_count": 5,
   "id": "cf64688f-03de-4814-8085-91e04ea4d942",
   "metadata": {},
   "outputs": [],
   "source": [
    "gold_terms = [doc.ents for doc in docs]"
   ]
  },
  {
   "cell_type": "markdown",
   "id": "04813d2d-80ac-48fa-9be8-8103a04b5903",
   "metadata": {},
   "source": [
    "# Extract Keywords"
   ]
  },
  {
   "cell_type": "code",
   "execution_count": 6,
   "id": "939600f7-85f5-40fd-a1db-b39e8c5e4f72",
   "metadata": {},
   "outputs": [],
   "source": [
    "nlp = spacy.load('training/model-best/')"
   ]
  },
  {
   "cell_type": "code",
   "execution_count": 7,
   "id": "38e082e7-ff98-472e-93c7-f7b8097c81a6",
   "metadata": {},
   "outputs": [
    {
     "data": {
      "application/vnd.jupyter.widget-view+json": {
       "model_id": "479f52a02c8e42eb85f1847fbf311c38",
       "version_major": 2,
       "version_minor": 0
      },
      "text/plain": [
       "  0%|          | 0/94 [00:00<?, ?it/s]"
      ]
     },
     "metadata": {},
     "output_type": "display_data"
    },
    {
     "name": "stderr",
     "output_type": "stream",
     "text": [
      "Token indices sequence length is longer than the specified maximum sequence length for this model (4364 > 4096). Running this sequence through the model will result in indexing errors\n",
      "/home/jovyan/conda_envs/spacy/lib/python3.10/site-packages/torch/amp/autocast_mode.py:198: UserWarning: User provided device_type of 'cuda', but CUDA is not available. Disabling\n",
      "  warnings.warn('User provided device_type of \\'cuda\\', but CUDA is not available. Disabling')\n"
     ]
    }
   ],
   "source": [
    "doc_gen = tqdm(nlp.pipe([doc.text for doc in docs]), total=len(docs))\n",
    "pred_terms = [doc.ents for doc in doc_gen]"
   ]
  },
  {
   "cell_type": "code",
   "execution_count": 8,
   "id": "1be18685-8f3e-4643-ae33-b65b59522b2a",
   "metadata": {},
   "outputs": [],
   "source": [
    "terms_for_eval = []\n",
    "\n",
    "for gold, pred, doc in zip(gold_terms, pred_terms, docs):\n",
    "    section_name = doc._.name.split('/')[-1]\n",
    "    terms_for_eval.append((section_name, [t.text for t in gold], [t.text for t in pred]))"
   ]
  },
  {
   "cell_type": "code",
   "execution_count": 62,
   "id": "2ca4c0be-a25f-4c60-894b-0f1d33fd381a",
   "metadata": {},
   "outputs": [],
   "source": [
    "f = open('results/macroeconomics-2e-results.txt','w', encoding='utf-8')\n",
    "\n",
    "for name, gold, pred in terms_for_eval:\n",
    "    f.write(name + '\\n\\n')\n",
    "    i = 0\n",
    "    j = 0\n",
    "    while i < len(gold) and j < len(pred):\n",
    "        if gold[i] in pred:\n",
    "            if gold[i] == pred[j]:\n",
    "                s = f'Gold: {gold[i]: <35} Pred: {pred[j]}'\n",
    "                i += 1\n",
    "                j +=1\n",
    "            else:\n",
    "                s = ' '*42 + f'Pred: {pred[j]}'\n",
    "                j += 1\n",
    "        elif i < len(gold):\n",
    "            s = f'Gold: {gold[i]: <35}'\n",
    "            i += 1\n",
    "        else:\n",
    "            s = ' '*42 + f'Pred: {pred[j]}'\n",
    "            j += 1\n",
    "        f.write(s + '\\n')\n",
    "    f.write('\\n')\n",
    "f.close()"
   ]
  },
  {
   "cell_type": "markdown",
   "id": "c11bb392-9b04-4165-9a72-fafcaef84498",
   "metadata": {},
   "source": [
    "# Send terms to csv"
   ]
  },
  {
   "cell_type": "code",
   "execution_count": null,
   "id": "8747c420-3af1-468d-a481-cf19a9dfb3fd",
   "metadata": {},
   "outputs": [],
   "source": [
    "terms_for_eval"
   ]
  },
  {
   "cell_type": "code",
   "execution_count": 12,
   "id": "9233dfcb-d5ae-4af0-9280-04d01ec7512f",
   "metadata": {},
   "outputs": [],
   "source": [
    "import pandas as pd\n",
    "pd.DataFrame(terms_for_eval, columns=['Section', 'Gold', 'Pred']).to_csv('results/macroeconomics-2e-results.csv', index=False)"
   ]
  }
 ],
 "metadata": {
  "kernelspec": {
   "display_name": "Python [conda env:wesEnv]",
   "language": "python",
   "name": "conda-env-wesEnv-py"
  },
  "language_info": {
   "codemirror_mode": {
    "name": "ipython",
    "version": 3
   },
   "file_extension": ".py",
   "mimetype": "text/x-python",
   "name": "python",
   "nbconvert_exporter": "python",
   "pygments_lexer": "ipython3",
   "version": "3.10.8"
  }
 },
 "nbformat": 4,
 "nbformat_minor": 5
}
