{
 "cells": [
  {
   "cell_type": "code",
   "execution_count": 10,
   "metadata": {
    "tags": []
   },
   "outputs": [
    {
     "name": "stdout",
     "output_type": "stream",
     "text": [
      "CUDA is available? True\n"
     ]
    }
   ],
   "source": [
    "import torch\n",
    "print(f'CUDA is available? {torch.cuda.is_available()}')\n",
    "\n",
    "import random\n",
    "random.seed(42)\n",
    "import string\n",
    "from collections import defaultdict\n",
    "from pathlib import Path\n",
    "project_dir = Path('/home/jovyan/active-projects/keyword-extraction')\n",
    "\n",
    "import spacy\n",
    "from spacy.tokens import Doc, DocBin\n",
    "nlp = spacy.blank('en')\n",
    "\n",
    "for extension in ['section_url', 'subsection']:\n",
    "    if not Doc.has_extension(extension):\n",
    "        Doc.set_extension(extension, default=None)\n",
    "\n",
    "import pandas as pd\n",
    "import numpy as np\n",
    "\n",
    "docs = list(DocBin()\n",
    "            .from_disk(project_dir / 'data' / 'openstax-subsections.spacy')\n",
    "            .get_docs(nlp.vocab))"
   ]
  },
  {
   "cell_type": "code",
   "execution_count": 96,
   "metadata": {
    "tags": []
   },
   "outputs": [],
   "source": [
    "from transformers import (\n",
    "    AutoModelForTokenClassification,\n",
    "    AutoModelForSeq2SeqLM,\n",
    "    AutoTokenizer,\n",
    "    Text2TextGenerationPipeline,\n",
    "    TokenClassificationPipeline,\n",
    ")\n",
    "\n",
    "from transformers.pipelines import AggregationStrategy\n",
    "\n",
    "class KeyphraseGenerationPipeline(Text2TextGenerationPipeline):\n",
    "    def __init__(self, model, keyphrase_sep_token=';', *args, **kwargs):\n",
    "        super().__init__(\n",
    "            model=AutoModelForSeq2SeqLM.from_pretrained(model),\n",
    "            tokenizer=AutoTokenizer.from_pretrained(model,\n",
    "                                                    truncation=True,\n",
    "                                                    max_length=512,\n",
    "                                                    model_max_length=512,\n",
    "                                                    ),\n",
    "            *args,\n",
    "            **kwargs\n",
    "        )\n",
    "        self.keyphrase_sep_token = keyphrase_sep_token\n",
    "\n",
    "    def postprocess(self, model_outputs):\n",
    "        results = super().postprocess(model_outputs=model_outputs)\n",
    "        return [\n",
    "            [\n",
    "                keyphrase.strip().translate(str.maketrans('', '', string.punctuation))\n",
    "                for keyphrase in result.get('generated_text').split(\n",
    "                    self.keyphrase_sep_token\n",
    "                )\n",
    "                if keyphrase.translate(str.maketrans('', '', string.punctuation)) != ''\n",
    "            ]\n",
    "            for result in results\n",
    "        ][0]\n",
    "\n",
    "\n",
    "class KeyphraseExtractionPipeline(TokenClassificationPipeline):\n",
    "    def __init__(self, model, *args, **kwargs):\n",
    "        super().__init__(\n",
    "            model=AutoModelForTokenClassification.from_pretrained(model),\n",
    "            tokenizer=AutoTokenizer.from_pretrained(model,\n",
    "                                                    truncation=True,\n",
    "                                                    max_length=512,\n",
    "                                                    model_max_length=512,\n",
    "                                                    ),\n",
    "            *args,\n",
    "            # **{'model_max_length': 510}\n",
    "            **kwargs\n",
    "        )\n",
    "\n",
    "    def postprocess(self, model_outputs):\n",
    "        results = super().postprocess(\n",
    "            model_outputs=model_outputs,\n",
    "            aggregation_strategy=AggregationStrategy.SIMPLE\n",
    "            if self.model.config.model_type == 'roberta'\n",
    "            else AggregationStrategy.FIRST,\n",
    "        )\n",
    "        return np.unique([result.get('word').strip() for result in results])"
   ]
  },
  {
   "cell_type": "code",
   "execution_count": 97,
   "metadata": {
    "tags": []
   },
   "outputs": [],
   "source": [
    "model_dict = {\n",
    "    'spacy': [\n",
    "        '/home/jovyan/active-projects/keyword-extraction/training/model-best',\n",
    "    ],\n",
    "    'extraction': [\n",
    "        'ml6team/keyphrase-extraction-kbir-inspec',\n",
    "        # 'ml6team/keyphrase-extraction-distilbert-inspec',\n",
    "        'ml6team/keyphrase-extraction-kbir-openkp',\n",
    "        # 'ml6team/keyphrase-extraction-distilbert-openkp',\n",
    "        'ml6team/keyphrase-extraction-kbir-kptimes',\n",
    "        # 'ml6team/keyphrase-extraction-distilbert-kptimes',\n",
    "        'ml6team/keyphrase-extraction-kbir-semeval2017',\n",
    "        'ml6team/keyphrase-extraction-kbir-kpcrowd',\n",
    "    ],\n",
    "    'generation': [\n",
    "        'ml6team/keyphrase-generation-keybart-inspec',\n",
    "        'ml6team/keyphrase-generation-t5-small-inspec',\n",
    "        'ml6team/keyphrase-generation-t5-small-openkp',\n",
    "        'bloomberg/KeyBART',\n",
    "    ]\n",
    "}\n",
    "\n",
    "samples = random.sample(docs, 100)"
   ]
  },
  {
   "cell_type": "code",
   "execution_count": 98,
   "metadata": {
    "tags": []
   },
   "outputs": [
    {
     "data": {
      "text/plain": [
       "'https://openstax.org/books/introduction-anthropology/pages/5-3-the-emergence-of-us-the-archaic-homo'"
      ]
     },
     "execution_count": 98,
     "metadata": {},
     "output_type": "execute_result"
    }
   ],
   "source": [
    "samples[0]._.section_url"
   ]
  },
  {
   "cell_type": "code",
   "execution_count": 101,
   "metadata": {
    "tags": []
   },
   "outputs": [],
   "source": [
    "def keyphrase_pipe(samples, pipe_type, model_name):\n",
    "    results = []\n",
    "    \n",
    "    if pipe_type == 'extraction':\n",
    "        pipe = KeyphraseExtractionPipeline(model=model_name,\n",
    "                                           truncation=True)\n",
    "        \n",
    "    elif pipe_type == 'generation':\n",
    "        pipe = KeyphraseGenerationPipeline(model=model_name,\n",
    "                                           truncation=True)\n",
    "    elif pipe_type == 'spacy':\n",
    "        nlp = spacy.load(model_name)\n",
    "        pipe = lambda sample: [e.text for e in nlp(sample).ents]\n",
    "\n",
    "    for sample in samples:\n",
    "        # print(f'{model_name} - {sample._.section_url} - {sample._.subsection}')\n",
    "        keywords = pipe(sample.text)\n",
    "        \n",
    "        # print(keywords)\n",
    "        results.append('; '.join(keywords))\n",
    "        \n",
    "    return results\n",
    "    \n",
    "\n",
    "\n",
    "def compare_models(samples, model_dict):\n",
    "    df_dict = defaultdict(list)\n",
    "    df_dict['text'] = [sample.text for sample in samples]\n",
    "    df_dict['url'] = [sample._.section_url for sample in samples]\n",
    "    \n",
    "    for pipe_type, models in model_dict.items():\n",
    "        # if pipe_type != 'generation':\n",
    "        #     print('Continue')\n",
    "        #     continue\n",
    "        for model_name in models:\n",
    "            print(f'{model_name}')\n",
    "            df_dict[model_name] = keyphrase_pipe(samples, pipe_type, model_name)\n",
    "            \n",
    "    return df_dict\n"
   ]
  },
  {
   "cell_type": "code",
   "execution_count": 102,
   "metadata": {
    "tags": []
   },
   "outputs": [
    {
     "name": "stdout",
     "output_type": "stream",
     "text": [
      "/home/jovyan/active-projects/keyword-extraction/training/model-best\n"
     ]
    },
    {
     "name": "stderr",
     "output_type": "stream",
     "text": [
      "Token indices sequence length is longer than the specified maximum sequence length for this model (4235 > 4096). Running this sequence through the model will result in indexing errors\n"
     ]
    },
    {
     "name": "stdout",
     "output_type": "stream",
     "text": [
      "ml6team/keyphrase-extraction-kbir-inspec\n",
      "ml6team/keyphrase-extraction-kbir-openkp\n",
      "ml6team/keyphrase-extraction-kbir-kptimes\n",
      "ml6team/keyphrase-extraction-kbir-semeval2017\n",
      "ml6team/keyphrase-extraction-kbir-kpcrowd\n",
      "ml6team/keyphrase-generation-keybart-inspec\n",
      "ml6team/keyphrase-generation-t5-small-inspec\n",
      "ml6team/keyphrase-generation-t5-small-openkp\n",
      "bloomberg/KeyBART\n"
     ]
    }
   ],
   "source": [
    "results = compare_models(samples, model_dict)"
   ]
  },
  {
   "cell_type": "code",
   "execution_count": 104,
   "metadata": {
    "tags": []
   },
   "outputs": [],
   "source": [
    "pd.DataFrame(results).to_csv('../results/10-models-100-subsections.csv', index=False)"
   ]
  },
  {
   "cell_type": "code",
   "execution_count": 112,
   "metadata": {
    "tags": []
   },
   "outputs": [
    {
     "data": {
      "text/html": [
       "<div>\n",
       "<style scoped>\n",
       "    .dataframe tbody tr th:only-of-type {\n",
       "        vertical-align: middle;\n",
       "    }\n",
       "\n",
       "    .dataframe tbody tr th {\n",
       "        vertical-align: top;\n",
       "    }\n",
       "\n",
       "    .dataframe thead th {\n",
       "        text-align: right;\n",
       "    }\n",
       "</style>\n",
       "<table border=\"1\" class=\"dataframe\">\n",
       "  <thead>\n",
       "    <tr style=\"text-align: right;\">\n",
       "      <th></th>\n",
       "      <th>Model Name</th>\n",
       "      <th>Keyphrases</th>\n",
       "    </tr>\n",
       "  </thead>\n",
       "  <tbody>\n",
       "    <tr>\n",
       "      <th>0</th>\n",
       "      <td>/home/jovyan/active-projects/keyword-extractio...</td>\n",
       "      <td>Ethics; ethical issue</td>\n",
       "    </tr>\n",
       "    <tr>\n",
       "      <th>1</th>\n",
       "      <td>ml6team/keyphrase-extraction-kbir-inspec</td>\n",
       "      <td>HIV patients; Hurricane Katrina; Latin America...</td>\n",
       "    </tr>\n",
       "    <tr>\n",
       "      <th>2</th>\n",
       "      <td>ml6team/keyphrase-extraction-distilbert-inspec</td>\n",
       "      <td>business ethics; drug; ethical behavior; ethic...</td>\n",
       "    </tr>\n",
       "    <tr>\n",
       "      <th>3</th>\n",
       "      <td>ml6team/keyphrase-extraction-kbir-openkp</td>\n",
       "      <td>ethical standards</td>\n",
       "    </tr>\n",
       "    <tr>\n",
       "      <th>4</th>\n",
       "      <td>ml6team/keyphrase-extraction-distilbert-openkp</td>\n",
       "      <td>personal ethical standards; shkreli</td>\n",
       "    </tr>\n",
       "    <tr>\n",
       "      <th>5</th>\n",
       "      <td>ml6team/keyphrase-extraction-kbir-kptimes</td>\n",
       "      <td>Ethics; ethics</td>\n",
       "    </tr>\n",
       "    <tr>\n",
       "      <th>6</th>\n",
       "      <td>ml6team/keyphrase-extraction-distilbert-kptimes</td>\n",
       "      <td>ethics</td>\n",
       "    </tr>\n",
       "    <tr>\n",
       "      <th>7</th>\n",
       "      <td>ml6team/keyphrase-extraction-kbir-semeval2017</td>\n",
       "      <td>Bribes; Ethics; a set of; bribes.; broke into ...</td>\n",
       "    </tr>\n",
       "    <tr>\n",
       "      <th>8</th>\n",
       "      <td>ml6team/keyphrase-extraction-kbir-kpcrowd</td>\n",
       "      <td>CEO; Ethics; HIV patients; Hurricane; New Orle...</td>\n",
       "    </tr>\n",
       "    <tr>\n",
       "      <th>9</th>\n",
       "      <td>ml6team/keyphrase-generation-keybart-inspec</td>\n",
       "      <td>personal ethical standards; moral standards; b...</td>\n",
       "    </tr>\n",
       "    <tr>\n",
       "      <th>10</th>\n",
       "      <td>ml6team/keyphrase-generation-t5-small-inspec</td>\n",
       "      <td>ethical standards; moral standards; business e...</td>\n",
       "    </tr>\n",
       "    <tr>\n",
       "      <th>11</th>\n",
       "      <td>ml6team/keyphrase-generation-t5-small-openkp</td>\n",
       "      <td>ethical standards</td>\n",
       "    </tr>\n",
       "    <tr>\n",
       "      <th>12</th>\n",
       "      <td>bloomberg/KeyBART</td>\n",
       "      <td>business ethics; moral standard; personal ethi...</td>\n",
       "    </tr>\n",
       "  </tbody>\n",
       "</table>\n",
       "</div>"
      ],
      "text/plain": [
       "                                           Model Name  \\\n",
       "0   /home/jovyan/active-projects/keyword-extractio...   \n",
       "1            ml6team/keyphrase-extraction-kbir-inspec   \n",
       "2      ml6team/keyphrase-extraction-distilbert-inspec   \n",
       "3            ml6team/keyphrase-extraction-kbir-openkp   \n",
       "4      ml6team/keyphrase-extraction-distilbert-openkp   \n",
       "5           ml6team/keyphrase-extraction-kbir-kptimes   \n",
       "6     ml6team/keyphrase-extraction-distilbert-kptimes   \n",
       "7       ml6team/keyphrase-extraction-kbir-semeval2017   \n",
       "8           ml6team/keyphrase-extraction-kbir-kpcrowd   \n",
       "9         ml6team/keyphrase-generation-keybart-inspec   \n",
       "10       ml6team/keyphrase-generation-t5-small-inspec   \n",
       "11       ml6team/keyphrase-generation-t5-small-openkp   \n",
       "12                                  bloomberg/KeyBART   \n",
       "\n",
       "                                           Keyphrases  \n",
       "0                               Ethics; ethical issue  \n",
       "1   HIV patients; Hurricane Katrina; Latin America...  \n",
       "2   business ethics; drug; ethical behavior; ethic...  \n",
       "3                                   ethical standards  \n",
       "4                 personal ethical standards; shkreli  \n",
       "5                                      Ethics; ethics  \n",
       "6                                              ethics  \n",
       "7   Bribes; Ethics; a set of; bribes.; broke into ...  \n",
       "8   CEO; Ethics; HIV patients; Hurricane; New Orle...  \n",
       "9   personal ethical standards; moral standards; b...  \n",
       "10  ethical standards; moral standards; business e...  \n",
       "11                                  ethical standards  \n",
       "12  business ethics; moral standard; personal ethi...  "
      ]
     },
     "execution_count": 112,
     "metadata": {},
     "output_type": "execute_result"
    }
   ],
   "source": [
    "results_df = pd.DataFrame.from_dict(results, columns=['Keyphrases'], orient='index').reset_index(names='Model Name')\n",
    "results_df"
   ]
  },
  {
   "cell_type": "code",
   "execution_count": 113,
   "metadata": {
    "tags": []
   },
   "outputs": [],
   "source": [
    "results_df.to_csv('../results/keyterms_by_model.csv', index=False)"
   ]
  },
  {
   "cell_type": "code",
   "execution_count": null,
   "metadata": {},
   "outputs": [],
   "source": []
  }
 ],
 "metadata": {
  "kernelspec": {
   "display_name": "Python [conda env:keyword-extraction]",
   "language": "python",
   "name": "conda-env-keyword-extraction-py"
  },
  "language_info": {
   "codemirror_mode": {
    "name": "ipython",
    "version": 3
   },
   "file_extension": ".py",
   "mimetype": "text/x-python",
   "name": "python",
   "nbconvert_exporter": "python",
   "pygments_lexer": "ipython3",
   "version": "3.11.0"
  }
 },
 "nbformat": 4,
 "nbformat_minor": 4
}
