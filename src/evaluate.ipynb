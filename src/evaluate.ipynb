{
 "cells": [
  {
   "cell_type": "code",
   "execution_count": 1,
   "id": "18d605e9-9586-4e30-bd77-c49e0750bf9e",
   "metadata": {
    "tags": []
   },
   "outputs": [
    {
     "name": "stdout",
     "output_type": "stream",
     "text": [
      "True\n"
     ]
    }
   ],
   "source": [
    "import torch\n",
    "print(torch.cuda.is_available())\n",
    "\n",
    "import random\n",
    "random.seed(42)\n",
    "import string\n",
    "from collections import defaultdict\n",
    "from pathlib import Path\n",
    "project_dir = Path('/home/jovyan/active-projects/keyword-extraction')\n",
    "\n",
    "import spacy\n",
    "from spacy.tokens import Doc, DocBin\n",
    "nlp = spacy.blank('en')\n",
    "\n",
    "for extension in ['section_url', 'subsection']:\n",
    "    if not Doc.has_extension(extension):\n",
    "        Doc.set_extension(extension, default=None)\n",
    "\n",
    "import pandas as pd\n",
    "import numpy as np\n",
    "\n",
    "docs = list(DocBin()\n",
    "            .from_disk(project_dir / 'corpus' / 'test.spacy')\n",
    "            .get_docs(nlp.vocab))"
   ]
  },
  {
   "cell_type": "code",
   "execution_count": 4,
   "id": "82942444-5634-41e2-b65e-3b31b4929008",
   "metadata": {
    "tags": []
   },
   "outputs": [],
   "source": [
    "nlp = spacy.load('/home/jovyan/active-projects/keyword-extraction/training/model-best')\n",
    "pipe = lambda sample: [e.text for e in nlp(sample).ents]"
   ]
  },
  {
   "cell_type": "code",
   "execution_count": null,
   "id": "afb9d3b6-b58e-4754-ad17-e023f0d4319f",
   "metadata": {},
   "outputs": [],
   "source": []
  }
 ],
 "metadata": {
  "kernelspec": {
   "display_name": "Python [conda env:keyword-extraction]",
   "language": "python",
   "name": "conda-env-keyword-extraction-py"
  },
  "language_info": {
   "codemirror_mode": {
    "name": "ipython",
    "version": 3
   },
   "file_extension": ".py",
   "mimetype": "text/x-python",
   "name": "python",
   "nbconvert_exporter": "python",
   "pygments_lexer": "ipython3",
   "version": "3.11.0"
  }
 },
 "nbformat": 4,
 "nbformat_minor": 5
}
