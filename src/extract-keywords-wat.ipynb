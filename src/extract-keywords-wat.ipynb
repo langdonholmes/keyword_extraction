{
 "cells": [
  {
   "cell_type": "code",
   "execution_count": 1,
   "id": "ce849f3f-32cf-4728-bd1f-5ae355cf17cd",
   "metadata": {
    "tags": []
   },
   "outputs": [
    {
     "data": {
      "text/plain": [
       "False"
      ]
     },
     "execution_count": 1,
     "metadata": {},
     "output_type": "execute_result"
    }
   ],
   "source": [
    "import spacy\n",
    "import pandas as pd\n",
    "from tqdm.auto import tqdm\n",
    "\n",
    "import torch\n",
    "torch.cuda.is_available()"
   ]
  },
  {
   "cell_type": "code",
   "execution_count": null,
   "id": "9e10b3be-15cc-4733-9a25-2c0b2191a5cd",
   "metadata": {},
   "outputs": [],
   "source": [
    "nlp = spacy.load('../training/model-last/')"
   ]
  }
 ],
 "metadata": {
  "kernelspec": {
   "display_name": "Python [conda env:spacy-3.4]",
   "language": "python",
   "name": "conda-env-spacy-3.4-py"
  },
  "language_info": {
   "codemirror_mode": {
    "name": "ipython",
    "version": 3
   },
   "file_extension": ".py",
   "mimetype": "text/x-python",
   "name": "python",
   "nbconvert_exporter": "python",
   "pygments_lexer": "ipython3",
   "version": "3.10.9"
  }
 },
 "nbformat": 4,
 "nbformat_minor": 5
}
