{
 "cells": [
  {
   "cell_type": "code",
   "execution_count": 7,
   "id": "348eb0a8-8a17-4b62-8d70-027e7e57c01b",
   "metadata": {},
   "outputs": [],
   "source": [
    "import pandas as pd\n",
    "import numpy as np\n",
    "\n",
    "df = pd.read_parquet('../data/open-stax-texts-terms.parquet')"
   ]
  },
  {
   "cell_type": "code",
   "execution_count": 59,
   "id": "4e6cadb5-90e7-46ee-94f0-67490fe27b94",
   "metadata": {},
   "outputs": [
    {
     "name": "stdout",
     "output_type": "stream",
     "text": [
      "Remaining Sections: 4892\n",
      "Remaining duplicates: 1052\n"
     ]
    },
    {
     "data": {
      "text/plain": [
       "algebra-and-trigonometry-2e                 39\n",
       "chemistry-2e                                43\n",
       "chemistry-atoms-first-2e                    43\n",
       "college-algebra-2e                          40\n",
       "college-algebra-corequisite-support-2e       3\n",
       "college-physics-2e                         232\n",
       "college-physics-ap-courses-2e              232\n",
       "introduction-business                        3\n",
       "introductory-business-statistics           122\n",
       "organizational-behavior                     10\n",
       "principles-economics-2e                     78\n",
       "principles-macroeconomics-2e                30\n",
       "principles-macroeconomics-ap-courses-2e     24\n",
       "principles-management                       13\n",
       "principles-microeconomics-2e                76\n",
       "principles-microeconomics-ap-courses-2e     64\n",
       "Name: book, dtype: int64"
      ]
     },
     "metadata": {},
     "output_type": "display_data"
    }
   ],
   "source": [
    "def return_duplicates(dataframe):\n",
    "    print(f'Remaining Sections: {dataframe.shape[0]}')\n",
    "    duplicates = (dataframe\n",
    "                 .loc[dataframe.text.duplicated(keep=False)].book\n",
    "                 .value_counts()\n",
    "                 .sort_index()\n",
    "                )\n",
    "    print(f'Remaining duplicates: {duplicates.sum()}')\n",
    "    display(duplicates)\n",
    "    return dataframe\n",
    "\n",
    "_ = return_duplicates(df)"
   ]
  },
  {
   "cell_type": "code",
   "execution_count": 60,
   "id": "0a574b3f-6f9b-4909-a072-c5aee5f4646f",
   "metadata": {},
   "outputs": [
    {
     "name": "stdout",
     "output_type": "stream",
     "text": [
      "Remaining Sections: 3855\n",
      "Remaining duplicates: 0\n"
     ]
    },
    {
     "data": {
      "text/plain": [
       "Series([], Name: book, dtype: int64)"
      ]
     },
     "metadata": {},
     "output_type": "display_data"
    }
   ],
   "source": [
    "drop_columns = ['college-physics-ap-courses-2e',\n",
    "                'college-algebra-corequisite-support-2e',\n",
    "                'principles-macroeconomics-ap-courses-2e',\n",
    "                'principles-microeconomics-ap-courses-2e',\n",
    "                'chemistry-atoms-first-2e',\n",
    "                'introductory-business-statistics',\n",
    "                'principles-macroeconomics-2e',\n",
    "                'principles-microeconomics-2e',\n",
    "                'college-algebra-2e',\n",
    "                'principles-management',\n",
    "               ]\n",
    "\n",
    "deduplicated = df.loc[~df.book.isin(drop_columns)].pipe(return_duplicates)"
   ]
  },
  {
   "cell_type": "code",
   "execution_count": 62,
   "id": "0898eb4c-d3f7-40a0-8b89-dc978f4b3503",
   "metadata": {},
   "outputs": [],
   "source": [
    "def convert_to_jsonl(dataframe, labels_column='all_term_offsets'):\n",
    "    (dataframe[['url', 'text', labels_column]]\n",
    "     .rename(columns={'url':'name',\n",
    "                      labels_column:'labels'\n",
    "                     })\n",
    "     .to_json(f'../assets/openstax_{labels_column}.jsonl',\n",
    "              orient='records',\n",
    "              lines=True)\n",
    "    )\n",
    "\n",
    "convert_to_jsonl(deduplicated, labels_column='all_term_offsets')"
   ]
  },
  {
   "cell_type": "code",
   "execution_count": 63,
   "id": "1b783b80-2826-4ff1-a951-68459ef97f5d",
   "metadata": {},
   "outputs": [],
   "source": [
    "convert_to_jsonl(deduplicated, labels_column='bold_term_offsets')\n",
    "convert_to_jsonl(deduplicated, labels_column='no_bold_term_offsets')"
   ]
  }
 ],
 "metadata": {
  "kernelspec": {
   "display_name": "Python [conda env:spacy]",
   "language": "python",
   "name": "conda-env-spacy-py"
  },
  "language_info": {
   "codemirror_mode": {
    "name": "ipython",
    "version": 3
   },
   "file_extension": ".py",
   "mimetype": "text/x-python",
   "name": "python",
   "nbconvert_exporter": "python",
   "pygments_lexer": "ipython3",
   "version": "3.10.8"
  }
 },
 "nbformat": 4,
 "nbformat_minor": 5
}
