{
 "cells": [
  {
   "cell_type": "code",
   "execution_count": 1,
   "id": "348eb0a8-8a17-4b62-8d70-027e7e57c01b",
   "metadata": {},
   "outputs": [],
   "source": [
    "import pandas as pd\n",
    "import numpy as np\n",
    "\n",
    "df = pd.read_parquet('../data/open-stax-texts-terms.parquet')"
   ]
  },
  {
   "cell_type": "code",
   "execution_count": 11,
   "id": "0898eb4c-d3f7-40a0-8b89-dc978f4b3503",
   "metadata": {},
   "outputs": [],
   "source": [
    "def convert_to_jsonl(dataframe, labels_column='all_term_offsets'):\n",
    "    (dataframe[['url', 'text', labels_column]]\n",
    "     .rename(columns={'url':'name',\n",
    "                      labels_column:'labels'\n",
    "                     })\n",
    "     .to_json(f'../assets/openstax_{labels_column}.jsonl',\n",
    "              orient='records',\n",
    "              lines=True)\n",
    "    )\n",
    "\n",
    "convert_to_jsonl(df, labels_column='all_term_offsets')"
   ]
  },
  {
   "cell_type": "code",
   "execution_count": 12,
   "id": "1b783b80-2826-4ff1-a951-68459ef97f5d",
   "metadata": {},
   "outputs": [],
   "source": [
    "convert_to_jsonl(df, labels_column='bold_term_offsets')\n",
    "convert_to_jsonl(df, labels_column='no_bold_term_offsets')"
   ]
  }
 ],
 "metadata": {
  "kernelspec": {
   "display_name": "Python [conda env:spacy]",
   "language": "python",
   "name": "conda-env-spacy-py"
  },
  "language_info": {
   "codemirror_mode": {
    "name": "ipython",
    "version": 3
   },
   "file_extension": ".py",
   "mimetype": "text/x-python",
   "name": "python",
   "nbconvert_exporter": "python",
   "pygments_lexer": "ipython3",
   "version": "3.10.5"
  }
 },
 "nbformat": 4,
 "nbformat_minor": 5
}
