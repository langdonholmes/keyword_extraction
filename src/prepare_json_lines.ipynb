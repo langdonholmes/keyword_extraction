{
 "cells": [
  {
   "cell_type": "code",
   "execution_count": 7,
   "id": "348eb0a8-8a17-4b62-8d70-027e7e57c01b",
   "metadata": {},
   "outputs": [],
   "source": [
    "import pandas as pd\n",
    "import numpy as np\n",
    "\n",
    "df = pd.read_parquet('../data/open-stax-texts-terms.parquet')"
   ]
  },
  {
   "cell_type": "code",
   "execution_count": 59,
   "id": "4e6cadb5-90e7-46ee-94f0-67490fe27b94",
   "metadata": {},
   "outputs": [
    {
     "name": "stdout",
     "output_type": "stream",
     "text": [
      "Remaining Sections: 4892\n",
      "Remaining duplicates: 1052\n"
     ]
    },
    {
     "data": {
      "text/plain": [
       "algebra-and-trigonometry-2e                 39\n",
       "chemistry-2e                                43\n",
       "chemistry-atoms-first-2e                    43\n",
       "college-algebra-2e                          40\n",
       "college-algebra-corequisite-support-2e       3\n",
       "college-physics-2e                         232\n",
       "college-physics-ap-courses-2e              232\n",
       "introduction-business                        3\n",
       "introductory-business-statistics           122\n",
       "organizational-behavior                     10\n",
       "principles-economics-2e                     78\n",
       "principles-macroeconomics-2e                30\n",
       "principles-macroeconomics-ap-courses-2e     24\n",
       "principles-management                       13\n",
       "principles-microeconomics-2e                76\n",
       "principles-microeconomics-ap-courses-2e     64\n",
       "Name: book, dtype: int64"
      ]
     },
     "metadata": {},
     "output_type": "display_data"
    }
   ],
   "source": [
    "def return_duplicates(dataframe):\n",
    "    print(f'Remaining Sections: {dataframe.shape[0]}')\n",
    "    duplicates = (dataframe\n",
    "                 .loc[dataframe.text.duplicated(keep=False)].book\n",
    "                 .value_counts()\n",
    "                 .sort_index()\n",
    "                )\n",
    "    print(f'Remaining duplicates: {duplicates.sum()}')\n",
    "    display(duplicates)\n",
    "    return dataframe\n",
    "\n",
    "_ = return_duplicates(df)"
   ]
  },
  {
   "cell_type": "code",
   "execution_count": 60,
   "id": "0a574b3f-6f9b-4909-a072-c5aee5f4646f",
   "metadata": {},
   "outputs": [
    {
     "name": "stdout",
     "output_type": "stream",
     "text": [
      "Remaining Sections: 3855\n",
      "Remaining duplicates: 0\n"
     ]
    },
    {
     "data": {
      "text/plain": [
       "Series([], Name: book, dtype: int64)"
      ]
     },
     "metadata": {},
     "output_type": "display_data"
    }
   ],
   "source": [
    "drop_columns = ['college-physics-ap-courses-2e',\n",
    "                'college-algebra-corequisite-support-2e',\n",
    "                'principles-macroeconomics-ap-courses-2e',\n",
    "                'principles-microeconomics-ap-courses-2e',\n",
    "                'chemistry-atoms-first-2e',\n",
    "                'introductory-business-statistics',\n",
    "                'principles-macroeconomics-2e',\n",
    "                'principles-microeconomics-2e',\n",
    "                'college-algebra-2e',\n",
    "                'principles-management',\n",
    "               ]\n",
    "\n",
    "deduplicated = df.loc[~df.book.isin(drop_columns)].pipe(return_duplicates)"
   ]
  },
  {
   "cell_type": "code",
   "execution_count": 68,
   "id": "47105f31-600e-4262-a2f0-99fc9a3e20a1",
   "metadata": {},
   "outputs": [
    {
     "data": {
      "text/plain": [
       "array([ 0,  0,  0, ..., 39, 39, 39], dtype=int8)"
      ]
     },
     "execution_count": 68,
     "metadata": {},
     "output_type": "execute_result"
    }
   ],
   "source": [
    "pd.Categorical(df.book).codes"
   ]
  },
  {
   "cell_type": "code",
   "execution_count": 81,
   "id": "470071ee-dcaa-4fc1-8a83-aff7e488cfc9",
   "metadata": {},
   "outputs": [
    {
     "data": {
      "text/plain": [
       "array([array([array([2133, 2148]), array([2561, 2574]), array([2682, 2690]),\n",
       "              array([3314, 3330]), array([5577, 5595]), array([7536, 7548]),\n",
       "              array([8365, 8381]), array([9922, 9937]), array([10036, 10049]),\n",
       "              array([10157, 10165]), array([10337, 10353]),\n",
       "              array([10488, 10506]), array([11515, 11535]),\n",
       "              array([11802, 11806]), array([11833, 11841]),\n",
       "              array([12190, 12209]), array([17848, 17880]),\n",
       "              array([18128, 18166]), array([18638, 18676]),\n",
       "              array([19005, 19037]), array([19791, 19812]),\n",
       "              array([21654, 21683]), array([21843, 21878]),\n",
       "              array([22253, 22281]), array([22628, 22662]),\n",
       "              array([26530, 26538]), array([26586, 26594]),\n",
       "              array([26701, 26721]), array([30672, 30680]),\n",
       "              array([31190, 31197])], dtype=object)                           ,\n",
       "       array([array([23288, 23307]), array([24718, 24737]),\n",
       "              array([26614, 26633])], dtype=object)        ,\n",
       "       array([array([1512, 1533]), array([1766, 1773]), array([1817, 1825]),\n",
       "              array([1867, 1885]), array([1915, 1936]), array([2043, 2061]),\n",
       "              array([2089, 2096]), array([2124, 2132]), array([12189, 12199]),\n",
       "              array([12202, 12209]), array([12488, 12493]),\n",
       "              array([12601, 12611]), array([12614, 12621]),\n",
       "              array([12763, 12768]), array([13589, 13608])], dtype=object)    ,\n",
       "       ..., array([], dtype=object), array([], dtype=object),\n",
       "       array([], dtype=object)], dtype=object)"
      ]
     },
     "execution_count": 81,
     "metadata": {},
     "output_type": "execute_result"
    }
   ],
   "source": [
    "np.concatenate((df.bold_term_offsets, df.no_bold_term_offsets))"
   ]
  },
  {
   "cell_type": "code",
   "execution_count": 96,
   "id": "31f4e7e5-2d77-49d9-9192-63cdb3ffc726",
   "metadata": {},
   "outputs": [],
   "source": [
    "def combine_offsets(row):\n",
    "    return [(st, end, label) for label, values in\n",
    "            {'bold_term': row.bold_term_offsets,\n",
    "             'light_term': row.no_bold_term_offsets}\n",
    "            .items()\n",
    "            for (st, end) in values]"
   ]
  },
  {
   "cell_type": "code",
   "execution_count": 98,
   "id": "0898eb4c-d3f7-40a0-8b89-dc978f4b3503",
   "metadata": {},
   "outputs": [
    {
     "ename": "NameError",
     "evalue": "name 'labels_column' is not defined",
     "output_type": "error",
     "traceback": [
      "\u001b[0;31m---------------------------------------------------------------------------\u001b[0m",
      "\u001b[0;31mNameError\u001b[0m                                 Traceback (most recent call last)",
      "Input \u001b[0;32mIn [98]\u001b[0m, in \u001b[0;36m<cell line: 14>\u001b[0;34m()\u001b[0m\n\u001b[1;32m      1\u001b[0m \u001b[38;5;28;01mdef\u001b[39;00m \u001b[38;5;21mconvert_to_jsonl\u001b[39m(dataframe):\n\u001b[1;32m      2\u001b[0m     \u001b[38;5;28;01mreturn\u001b[39;00m (dataframe[[\u001b[38;5;124m'\u001b[39m\u001b[38;5;124mbook\u001b[39m\u001b[38;5;124m'\u001b[39m, \u001b[38;5;124m'\u001b[39m\u001b[38;5;124murl\u001b[39m\u001b[38;5;124m'\u001b[39m, \u001b[38;5;124m'\u001b[39m\u001b[38;5;124mtext\u001b[39m\u001b[38;5;124m'\u001b[39m, \u001b[38;5;124m'\u001b[39m\u001b[38;5;124mbold_term_offsets\u001b[39m\u001b[38;5;124m'\u001b[39m, \u001b[38;5;124m'\u001b[39m\u001b[38;5;124mno_bold_term_offsets\u001b[39m\u001b[38;5;124m'\u001b[39m]]\n\u001b[1;32m      3\u001b[0m      \u001b[38;5;241m.\u001b[39massign(labels\u001b[38;5;241m=\u001b[39m\u001b[38;5;28;01mlambda\u001b[39;00m x: \n\u001b[1;32m      4\u001b[0m              x\u001b[38;5;241m.\u001b[39mapply(\u001b[38;5;28;01mlambda\u001b[39;00m row: combine_offsets(row), axis\u001b[38;5;241m=\u001b[39m\u001b[38;5;241m1\u001b[39m))\n\u001b[0;32m   (...)\u001b[0m\n\u001b[1;32m     11\u001b[0m               lines\u001b[38;5;241m=\u001b[39m\u001b[38;5;28;01mTrue\u001b[39;00m)\n\u001b[1;32m     12\u001b[0m     )\n\u001b[0;32m---> 14\u001b[0m \u001b[43mconvert_to_jsonl\u001b[49m\u001b[43m(\u001b[49m\u001b[43mdeduplicated\u001b[49m\u001b[43m)\u001b[49m\n",
      "Input \u001b[0;32mIn [98]\u001b[0m, in \u001b[0;36mconvert_to_jsonl\u001b[0;34m(dataframe)\u001b[0m\n\u001b[1;32m      1\u001b[0m \u001b[38;5;28;01mdef\u001b[39;00m \u001b[38;5;21mconvert_to_jsonl\u001b[39m(dataframe):\n\u001b[1;32m      2\u001b[0m     \u001b[38;5;28;01mreturn\u001b[39;00m (dataframe[[\u001b[38;5;124m'\u001b[39m\u001b[38;5;124mbook\u001b[39m\u001b[38;5;124m'\u001b[39m, \u001b[38;5;124m'\u001b[39m\u001b[38;5;124murl\u001b[39m\u001b[38;5;124m'\u001b[39m, \u001b[38;5;124m'\u001b[39m\u001b[38;5;124mtext\u001b[39m\u001b[38;5;124m'\u001b[39m, \u001b[38;5;124m'\u001b[39m\u001b[38;5;124mbold_term_offsets\u001b[39m\u001b[38;5;124m'\u001b[39m, \u001b[38;5;124m'\u001b[39m\u001b[38;5;124mno_bold_term_offsets\u001b[39m\u001b[38;5;124m'\u001b[39m]]\n\u001b[1;32m      3\u001b[0m      \u001b[38;5;241m.\u001b[39massign(labels\u001b[38;5;241m=\u001b[39m\u001b[38;5;28;01mlambda\u001b[39;00m x: \n\u001b[1;32m      4\u001b[0m              x\u001b[38;5;241m.\u001b[39mapply(\u001b[38;5;28;01mlambda\u001b[39;00m row: combine_offsets(row), axis\u001b[38;5;241m=\u001b[39m\u001b[38;5;241m1\u001b[39m))\n\u001b[1;32m      5\u001b[0m      \u001b[38;5;241m.\u001b[39mrename(columns\u001b[38;5;241m=\u001b[39m{\u001b[38;5;124m'\u001b[39m\u001b[38;5;124murl\u001b[39m\u001b[38;5;124m'\u001b[39m: \u001b[38;5;124m'\u001b[39m\u001b[38;5;124mname\u001b[39m\u001b[38;5;124m'\u001b[39m,\n\u001b[1;32m      6\u001b[0m                      })\n\u001b[1;32m      7\u001b[0m      \u001b[38;5;241m.\u001b[39massign(group\u001b[38;5;241m=\u001b[39m \u001b[38;5;28;01mlambda\u001b[39;00m x: pd\u001b[38;5;241m.\u001b[39mCategorical(x\u001b[38;5;241m.\u001b[39mbook)\u001b[38;5;241m.\u001b[39mcodes)\n\u001b[1;32m      8\u001b[0m      \u001b[38;5;241m.\u001b[39mdrop(columns\u001b[38;5;241m=\u001b[39m[\u001b[38;5;124m'\u001b[39m\u001b[38;5;124mbook\u001b[39m\u001b[38;5;124m'\u001b[39m, \u001b[38;5;124m'\u001b[39m\u001b[38;5;124mbold_term_offsets\u001b[39m\u001b[38;5;124m'\u001b[39m, \u001b[38;5;124m'\u001b[39m\u001b[38;5;124mno_bold_term_offsets\u001b[39m\u001b[38;5;124m'\u001b[39m])\n\u001b[0;32m----> 9\u001b[0m      \u001b[38;5;241m.\u001b[39mto_json(\u001b[38;5;124mf\u001b[39m\u001b[38;5;124m'\u001b[39m\u001b[38;5;124m../assets/openstax_\u001b[39m\u001b[38;5;132;01m{\u001b[39;00mlabels_column\u001b[38;5;132;01m}\u001b[39;00m\u001b[38;5;124m.jsonl\u001b[39m\u001b[38;5;124m'\u001b[39m,\n\u001b[1;32m     10\u001b[0m               orient\u001b[38;5;241m=\u001b[39m\u001b[38;5;124m'\u001b[39m\u001b[38;5;124mrecords\u001b[39m\u001b[38;5;124m'\u001b[39m,\n\u001b[1;32m     11\u001b[0m               lines\u001b[38;5;241m=\u001b[39m\u001b[38;5;28;01mTrue\u001b[39;00m)\n\u001b[1;32m     12\u001b[0m     )\n",
      "\u001b[0;31mNameError\u001b[0m: name 'labels_column' is not defined"
     ]
    }
   ],
   "source": [
    "def convert_to_jsonl(dataframe):\n",
    "    return (dataframe[['book', 'url', 'text', 'bold_term_offsets', 'no_bold_term_offsets']]\n",
    "     .assign(labels=lambda x: \n",
    "             x.apply(lambda row: combine_offsets(row), axis=1))\n",
    "     .rename(columns={'url': 'name',\n",
    "                     })\n",
    "     .assign(group= lambda x: pd.Categorical(x.book).codes)\n",
    "     .drop(columns=['book', 'bold_term_offsets', 'no_bold_term_offsets'])\n",
    "     .to_json(f'../assets/openstax.jsonl',\n",
    "              orient='records',\n",
    "              lines=True)\n",
    "    )\n",
    "\n",
    "convert_to_jsonl(deduplicated)"
   ]
  },
  {
   "cell_type": "code",
   "execution_count": 71,
   "id": "1b783b80-2826-4ff1-a951-68459ef97f5d",
   "metadata": {},
   "outputs": [],
   "source": [
    "convert_to_jsonl(deduplicated, labels_column='bold_term_offsets')\n",
    "convert_to_jsonl(deduplicated, labels_column='no_bold_term_offsets')"
   ]
  }
 ],
 "metadata": {
  "kernelspec": {
   "display_name": "Python [conda env:spacy]",
   "language": "python",
   "name": "conda-env-spacy-py"
  },
  "language_info": {
   "codemirror_mode": {
    "name": "ipython",
    "version": 3
   },
   "file_extension": ".py",
   "mimetype": "text/x-python",
   "name": "python",
   "nbconvert_exporter": "python",
   "pygments_lexer": "ipython3",
   "version": "3.10.8"
  }
 },
 "nbformat": 4,
 "nbformat_minor": 5
}
