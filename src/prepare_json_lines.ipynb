{
 "cells": [
  {
   "cell_type": "code",
   "execution_count": 1,
   "id": "348eb0a8-8a17-4b62-8d70-027e7e57c01b",
   "metadata": {},
   "outputs": [],
   "source": [
    "import pandas as pd\n",
    "import numpy as np\n",
    "\n",
    "df = pd.read_parquet('../data/open-stax-texts-terms.parquet')"
   ]
  },
  {
   "cell_type": "code",
   "execution_count": 2,
   "id": "4e6cadb5-90e7-46ee-94f0-67490fe27b94",
   "metadata": {},
   "outputs": [
    {
     "name": "stdout",
     "output_type": "stream",
     "text": [
      "Remaining Sections: 4892\n",
      "Remaining duplicates: 1052\n"
     ]
    },
    {
     "data": {
      "text/plain": [
       "algebra-and-trigonometry-2e                 39\n",
       "chemistry-2e                                43\n",
       "chemistry-atoms-first-2e                    43\n",
       "college-algebra-2e                          40\n",
       "college-algebra-corequisite-support-2e       3\n",
       "college-physics-2e                         232\n",
       "college-physics-ap-courses-2e              232\n",
       "introduction-business                        3\n",
       "introductory-business-statistics           122\n",
       "organizational-behavior                     10\n",
       "principles-economics-2e                     78\n",
       "principles-macroeconomics-2e                30\n",
       "principles-macroeconomics-ap-courses-2e     24\n",
       "principles-management                       13\n",
       "principles-microeconomics-2e                76\n",
       "principles-microeconomics-ap-courses-2e     64\n",
       "Name: book, dtype: int64"
      ]
     },
     "metadata": {},
     "output_type": "display_data"
    }
   ],
   "source": [
    "def return_duplicates(dataframe):\n",
    "    print(f'Remaining Sections: {dataframe.shape[0]}')\n",
    "    duplicates = (dataframe\n",
    "                 .loc[dataframe.text.duplicated(keep=False)].book\n",
    "                 .value_counts()\n",
    "                 .sort_index()\n",
    "                )\n",
    "    print(f'Remaining duplicates: {duplicates.sum()}')\n",
    "    display(duplicates)\n",
    "    return dataframe\n",
    "\n",
    "_ = return_duplicates(df)"
   ]
  },
  {
   "cell_type": "markdown",
   "id": "32879d8a-ec86-4c99-8b44-d0b7f70585a3",
   "metadata": {},
   "source": [
    "Some sections texts are repeated in different textbooks\n",
    "\n",
    "After fiddling with the values, it seems that removing the following books results in a dataset with no duplicate sections.\n",
    "\n",
    "Not all sections in all of these books are repeated. An alternative solution would be to remove duplicated sections..."
   ]
  },
  {
   "cell_type": "code",
   "execution_count": 7,
   "id": "0a574b3f-6f9b-4909-a072-c5aee5f4646f",
   "metadata": {},
   "outputs": [
    {
     "name": "stdout",
     "output_type": "stream",
     "text": [
      "Remaining Sections: 3713\n",
      "Remaining duplicates: 0\n"
     ]
    },
    {
     "data": {
      "text/plain": [
       "Series([], Name: book, dtype: int64)"
      ]
     },
     "metadata": {},
     "output_type": "display_data"
    }
   ],
   "source": [
    "drop_columns = ['college-physics-ap-courses-2e',\n",
    "                'college-algebra-corequisite-support-2e',\n",
    "                'principles-macroeconomics-ap-courses-2e',\n",
    "                'principles-microeconomics-ap-courses-2e',\n",
    "                'chemistry-atoms-first-2e',\n",
    "                'introductory-business-statistics',\n",
    "                'principles-economics-2e',\n",
    "                'principles-macroeconomics-2e',\n",
    "                'principles-microeconomics-2e',\n",
    "                'college-algebra-2e',\n",
    "                'principles-management',\n",
    "               ]\n",
    "\n",
    "deduplicated = df.loc[~df.book.isin(drop_columns)].pipe(return_duplicates)"
   ]
  },
  {
   "cell_type": "code",
   "execution_count": 4,
   "id": "31f4e7e5-2d77-49d9-9192-63cdb3ffc726",
   "metadata": {},
   "outputs": [],
   "source": [
    "def combine_offsets(row):\n",
    "    '''Takes a dataframe row with two columns that contain (st, end) tuples\n",
    "    Returns a single list of (st, end, label) tuples\n",
    "    where label relates to the name of the respective column\n",
    "    '''\n",
    "    return [(st, end, label) for label, values in\n",
    "            {'bold_term': row.bold_term_offsets,\n",
    "             'light_term': row.no_bold_term_offsets}\n",
    "            .items()\n",
    "            for (st, end) in values]"
   ]
  },
  {
   "cell_type": "code",
   "execution_count": 5,
   "id": "0898eb4c-d3f7-40a0-8b89-dc978f4b3503",
   "metadata": {},
   "outputs": [],
   "source": [
    "def convert_to_jsonl(dataframe, out_path):\n",
    "    return (dataframe[['book', 'url', 'text', 'bold_term_offsets', 'no_bold_term_offsets']]\n",
    "     .assign(labels=lambda x: x.apply(combine_offsets, axis=1))\n",
    "     .rename(columns={'url': 'name'})\n",
    "     .assign(group= lambda x: pd.Categorical(x.book).codes) # convert book titles to integer codes for splitting dataset by group\n",
    "     .drop(columns=['book', 'bold_term_offsets', 'no_bold_term_offsets'])\n",
    "     .to_json(out_path,\n",
    "              orient='records',\n",
    "              lines=True)\n",
    "    )\n",
    "\n",
    "convert_to_jsonl(deduplicated, f'../assets/openstax.jsonl')"
   ]
  },
  {
   "cell_type": "markdown",
   "id": "d64c41a3-c94c-4823-9f09-a55dd3b92ca9",
   "metadata": {},
   "source": [
    "# Generate special file for Principles of Macroeconomics 2e\n",
    "This textbook is not included in the prepared dataset, but the text is used for our demo website: https://textbook-demo.web.app/\n",
    "\n",
    "We will create a special .jsonl file for this textbook, so model performance can be manually reviewed."
   ]
  },
  {
   "cell_type": "code",
   "execution_count": 7,
   "id": "20e0d31f-ba9d-4642-8355-1265877a1c13",
   "metadata": {},
   "outputs": [],
   "source": [
    "convert_to_jsonl(df.loc[df.book == 'principles-macroeconomics-2e'], f'../assets/macroeconomics_2e.jsonl')"
   ]
  }
 ],
 "metadata": {
  "kernelspec": {
   "display_name": "Python 3 (ipykernel)",
   "language": "python",
   "name": "python3"
  },
  "language_info": {
   "codemirror_mode": {
    "name": "ipython",
    "version": 3
   },
   "file_extension": ".py",
   "mimetype": "text/x-python",
   "name": "python",
   "nbconvert_exporter": "python",
   "pygments_lexer": "ipython3",
   "version": "3.10.9"
  }
 },
 "nbformat": 4,
 "nbformat_minor": 5
}
