{
 "cells": [
  {
   "cell_type": "code",
   "execution_count": 1,
   "id": "348eb0a8-8a17-4b62-8d70-027e7e57c01b",
   "metadata": {},
   "outputs": [],
   "source": [
    "import pandas as pd\n",
    "import numpy as np\n",
    "\n",
    "df = pd.read_parquet('../data/open-stax-texts-terms.parquet')"
   ]
  },
  {
   "cell_type": "code",
   "execution_count": 11,
   "id": "0898eb4c-d3f7-40a0-8b89-dc978f4b3503",
   "metadata": {},
   "outputs": [],
   "source": [
    "def convert_to_jsonl(dataframe, labels_column='all_term_offsets'):\n",
    "    (dataframe[['url', 'text', labels_column]]\n",
    "     .rename(columns={'url':'name',\n",
    "                      labels_column:'labels'\n",
    "                     })\n",
    "     .to_json(f'../assets/openstax_{labels_column}.jsonl',\n",
    "              orient='records',\n",
    "              lines=True)\n",
    "    )\n",
    "\n",
    "convert_to_jsonl(df, labels_column='all_term_offsets')"
   ]
  },
  {
   "cell_type": "code",
   "execution_count": 12,
   "id": "1b783b80-2826-4ff1-a951-68459ef97f5d",
   "metadata": {},
   "outputs": [],
   "source": [
    "convert_to_jsonl(df, labels_column='bold_term_offsets')\n",
    "convert_to_jsonl(df, labels_column='no_bold_term_offsets')"
   ]
  },
  {
   "cell_type": "code",
   "execution_count": 23,
   "id": "e8efae88-ffaa-4855-92e2-1e570468d3eb",
   "metadata": {},
   "outputs": [],
   "source": [
    "import re\n",
    "import random"
   ]
  },
  {
   "cell_type": "code",
   "execution_count": 54,
   "id": "f5c761ac-3b71-4b14-bcc3-f84b5798ee2f",
   "metadata": {},
   "outputs": [],
   "source": [
    "ss = [(20, 36, 'Shrinks sequences to non-whitespace from the left, then from the right.'),\n",
    "      (18, 27, 'If you are running your container behind a TLS'),\n",
    "     ]"
   ]
  },
  {
   "cell_type": "code",
   "execution_count": null,
   "id": "20b06c50-4694-42a5-a50b-b40ed4fcffd5",
   "metadata": {},
   "outputs": [],
   "source": []
  },
  {
   "cell_type": "code",
   "execution_count": 28,
   "id": "106c9d83-4ad5-4341-9abe-2043cef104f7",
   "metadata": {},
   "outputs": [
    {
     "data": {
      "text/plain": [
       "2719"
      ]
     },
     "execution_count": 28,
     "metadata": {},
     "output_type": "execute_result"
    }
   ],
   "source": [
    "random.randint(0, 5000)"
   ]
  },
  {
   "cell_type": "code",
   "execution_count": 55,
   "id": "8b319156-6e9b-488d-b4a0-d50a5d4d627f",
   "metadata": {},
   "outputs": [
    {
     "name": "stdout",
     "output_type": "stream",
     "text": [
      " non-whitespace  20 36\n",
      "non-whitespace 1 15\n",
      "non-whitespace 21 35\n",
      " your con 18 27\n",
      "your con 1 9\n",
      "your con 19 27\n"
     ]
    }
   ],
   "source": [
    "no_leading_trailing_space_or_punct = re.compile(r'\\w.*\\w')\n",
    "\n",
    "for st, end, full_text in ss:\n",
    "    s = full_text[st:end]\n",
    "    print(s, st, end)\n",
    "    match = re.search(no_leading_trailing_space_or_punct, s)\n",
    "    text = match[0]\n",
    "    st = st + match.start() # offset st ind by match start\n",
    "    end = end - (len(s) - match.end()) # offset end index by (old string length - new string length)\n",
    "    print(text, match.start(), match.end())\n",
    "    print(full_text[st:end], st, end)"
   ]
  }
 ],
 "metadata": {
  "kernelspec": {
   "display_name": "Python [conda env:spacy]",
   "language": "python",
   "name": "conda-env-spacy-py"
  },
  "language_info": {
   "codemirror_mode": {
    "name": "ipython",
    "version": 3
   },
   "file_extension": ".py",
   "mimetype": "text/x-python",
   "name": "python",
   "nbconvert_exporter": "python",
   "pygments_lexer": "ipython3",
   "version": "3.10.5"
  }
 },
 "nbformat": 4,
 "nbformat_minor": 5
}
